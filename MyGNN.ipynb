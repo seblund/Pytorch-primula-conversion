{
 "cells": [
  {
   "cell_type": "markdown",
   "id": "78b885b4",
   "metadata": {},
   "source": [
    "A basic implementation of ACR GNNs and some experimental evaluations. Much of this is made for experiments with the synthetic datasets provided by Barcelo et al., found at https://github.com/juanpablos/GNN-logic"
   ]
  },
  {
   "cell_type": "code",
   "execution_count": 2,
   "id": "76bdf254",
   "metadata": {},
   "outputs": [
    {
     "ename": "ModuleNotFoundError",
     "evalue": "No module named 'torch_sparse'",
     "output_type": "error",
     "traceback": [
      "\u001b[1;31m---------------------------------------------------------------------------\u001b[0m",
      "\u001b[1;31mModuleNotFoundError\u001b[0m                       Traceback (most recent call last)",
      "\u001b[1;32mc:\\Users\\sebas\\Desktop\\WindowsProjects\\Pytorch-primula-conversion\\MyGNN.ipynb Cell 2\u001b[0m in \u001b[0;36m<cell line: 7>\u001b[1;34m()\u001b[0m\n\u001b[0;32m      <a href='vscode-notebook-cell:/c%3A/Users/sebas/Desktop/WindowsProjects/Pytorch-primula-conversion/MyGNN.ipynb#W1sZmlsZQ%3D%3D?line=4'>5</a>\u001b[0m \u001b[39mimport\u001b[39;00m \u001b[39mtorch\u001b[39;00m\u001b[39m.\u001b[39;00m\u001b[39mnn\u001b[39;00m \u001b[39mas\u001b[39;00m \u001b[39mnn\u001b[39;00m\n\u001b[0;32m      <a href='vscode-notebook-cell:/c%3A/Users/sebas/Desktop/WindowsProjects/Pytorch-primula-conversion/MyGNN.ipynb#W1sZmlsZQ%3D%3D?line=5'>6</a>\u001b[0m \u001b[39mimport\u001b[39;00m \u001b[39mtorch\u001b[39;00m\u001b[39m.\u001b[39;00m\u001b[39mnn\u001b[39;00m\u001b[39m.\u001b[39;00m\u001b[39mfunctional\u001b[39;00m \u001b[39mas\u001b[39;00m \u001b[39mF\u001b[39;00m\n\u001b[1;32m----> <a href='vscode-notebook-cell:/c%3A/Users/sebas/Desktop/WindowsProjects/Pytorch-primula-conversion/MyGNN.ipynb#W1sZmlsZQ%3D%3D?line=6'>7</a>\u001b[0m \u001b[39mfrom\u001b[39;00m \u001b[39mtorch_geometric\u001b[39;00m\u001b[39m.\u001b[39;00m\u001b[39mnn\u001b[39;00m \u001b[39mimport\u001b[39;00m MessagePassing,global_add_pool\n\u001b[0;32m      <a href='vscode-notebook-cell:/c%3A/Users/sebas/Desktop/WindowsProjects/Pytorch-primula-conversion/MyGNN.ipynb#W1sZmlsZQ%3D%3D?line=7'>8</a>\u001b[0m \u001b[39mfrom\u001b[39;00m \u001b[39mtorch_geometric\u001b[39;00m\u001b[39m.\u001b[39;00m\u001b[39mdata\u001b[39;00m \u001b[39mimport\u001b[39;00m Data\n\u001b[0;32m     <a href='vscode-notebook-cell:/c%3A/Users/sebas/Desktop/WindowsProjects/Pytorch-primula-conversion/MyGNN.ipynb#W1sZmlsZQ%3D%3D?line=9'>10</a>\u001b[0m \u001b[39mimport\u001b[39;00m \u001b[39mmatplotlib\u001b[39;00m\u001b[39m.\u001b[39;00m\u001b[39mpyplot\u001b[39;00m \u001b[39mas\u001b[39;00m \u001b[39mplt\u001b[39;00m\n",
      "File \u001b[1;32mc:\\Users\\sebas\\miniconda3\\envs\\pytorch\\lib\\site-packages\\torch_geometric\\__init__.py:4\u001b[0m, in \u001b[0;36m<module>\u001b[1;34m\u001b[0m\n\u001b[0;32m      1\u001b[0m \u001b[39mfrom\u001b[39;00m \u001b[39mtypes\u001b[39;00m \u001b[39mimport\u001b[39;00m ModuleType\n\u001b[0;32m      2\u001b[0m \u001b[39mfrom\u001b[39;00m \u001b[39mimportlib\u001b[39;00m \u001b[39mimport\u001b[39;00m import_module\n\u001b[1;32m----> 4\u001b[0m \u001b[39mimport\u001b[39;00m \u001b[39mtorch_geometric\u001b[39;00m\u001b[39m.\u001b[39;00m\u001b[39mdata\u001b[39;00m\n\u001b[0;32m      5\u001b[0m \u001b[39mimport\u001b[39;00m \u001b[39mtorch_geometric\u001b[39;00m\u001b[39m.\u001b[39;00m\u001b[39mloader\u001b[39;00m\n\u001b[0;32m      6\u001b[0m \u001b[39mimport\u001b[39;00m \u001b[39mtorch_geometric\u001b[39;00m\u001b[39m.\u001b[39;00m\u001b[39mtransforms\u001b[39;00m\n",
      "File \u001b[1;32mc:\\Users\\sebas\\miniconda3\\envs\\pytorch\\lib\\site-packages\\torch_geometric\\data\\__init__.py:1\u001b[0m, in \u001b[0;36m<module>\u001b[1;34m\u001b[0m\n\u001b[1;32m----> 1\u001b[0m \u001b[39mfrom\u001b[39;00m \u001b[39m.\u001b[39;00m\u001b[39mdata\u001b[39;00m \u001b[39mimport\u001b[39;00m Data\n\u001b[0;32m      2\u001b[0m \u001b[39mfrom\u001b[39;00m \u001b[39m.\u001b[39;00m\u001b[39mhetero_data\u001b[39;00m \u001b[39mimport\u001b[39;00m HeteroData\n\u001b[0;32m      3\u001b[0m \u001b[39mfrom\u001b[39;00m \u001b[39m.\u001b[39;00m\u001b[39mtemporal\u001b[39;00m \u001b[39mimport\u001b[39;00m TemporalData\n",
      "File \u001b[1;32mc:\\Users\\sebas\\miniconda3\\envs\\pytorch\\lib\\site-packages\\torch_geometric\\data\\data.py:20\u001b[0m, in \u001b[0;36m<module>\u001b[1;34m\u001b[0m\n\u001b[0;32m     18\u001b[0m \u001b[39mimport\u001b[39;00m \u001b[39mtorch\u001b[39;00m\n\u001b[0;32m     19\u001b[0m \u001b[39mfrom\u001b[39;00m \u001b[39mtorch\u001b[39;00m \u001b[39mimport\u001b[39;00m Tensor\n\u001b[1;32m---> 20\u001b[0m \u001b[39mfrom\u001b[39;00m \u001b[39mtorch_sparse\u001b[39;00m \u001b[39mimport\u001b[39;00m SparseTensor\n\u001b[0;32m     22\u001b[0m \u001b[39mfrom\u001b[39;00m \u001b[39mtorch_geometric\u001b[39;00m\u001b[39m.\u001b[39;00m\u001b[39mdata\u001b[39;00m\u001b[39m.\u001b[39;00m\u001b[39mfeature_store\u001b[39;00m \u001b[39mimport\u001b[39;00m (\n\u001b[0;32m     23\u001b[0m     FeatureStore,\n\u001b[0;32m     24\u001b[0m     FeatureTensorType,\n\u001b[0;32m     25\u001b[0m     TensorAttr,\n\u001b[0;32m     26\u001b[0m     _field_status,\n\u001b[0;32m     27\u001b[0m )\n\u001b[0;32m     28\u001b[0m \u001b[39mfrom\u001b[39;00m \u001b[39mtorch_geometric\u001b[39;00m\u001b[39m.\u001b[39;00m\u001b[39mdata\u001b[39;00m\u001b[39m.\u001b[39;00m\u001b[39mgraph_store\u001b[39;00m \u001b[39mimport\u001b[39;00m (\n\u001b[0;32m     29\u001b[0m     EDGE_LAYOUT_TO_ATTR_NAME,\n\u001b[0;32m     30\u001b[0m     EdgeAttr,\n\u001b[1;32m   (...)\u001b[0m\n\u001b[0;32m     34\u001b[0m     edge_tensor_type_to_adj_type,\n\u001b[0;32m     35\u001b[0m )\n",
      "\u001b[1;31mModuleNotFoundError\u001b[0m: No module named 'torch_sparse'"
     ]
    }
   ],
   "source": [
    "import numpy as np\n",
    "import math\n",
    "\n",
    "import torch\n",
    "import torch.nn as nn\n",
    "import torch.nn.functional as F\n",
    "from torch_geometric.nn import MessagePassing,global_add_pool\n",
    "from torch_geometric.data import Data\n",
    "\n",
    "import matplotlib.pyplot as plt\n",
    "\n",
    "import pickle\n",
    "\n",
    "import sys\n",
    "sys.path.append(\"GNN-logic/src\")\n",
    "\n",
    "import utils\n",
    "from utils import util\n",
    "\n",
    "# from primulautils import datatordef\n",
    "from torch_geometric.data import DataLoader\n",
    "\n",
    "import os\n"
   ]
  },
  {
   "cell_type": "code",
   "execution_count": 2,
   "id": "4887e46a",
   "metadata": {},
   "outputs": [],
   "source": [
    "def sigma(x):\n",
    "    return 1/(1+np.exp(-x))\n",
    "\n",
    "def onehot(y):\n",
    "    oh=torch.zeros((len(y),torch.max(y)+1))\n",
    "    for i in range(len(y)):\n",
    "        oh[i,y[i]]=1\n",
    "    return oh\n",
    "\n",
    "\n",
    "def prediction(x):\n",
    "    if x>0.5:\n",
    "        return 1\n",
    "    return 0\n"
   ]
  },
  {
   "cell_type": "code",
   "execution_count": 3,
   "id": "c8b81f51",
   "metadata": {},
   "outputs": [],
   "source": [
    "class MYConv(MessagePassing):\n",
    "    def __init__(self, in_channels, out_channels):\n",
    "        super().__init__(aggr='add',flow=\"source_to_target\")\n",
    "        self.lin=torch.nn.Linear(in_channels, out_channels, bias=False)\n",
    "        \n",
    "    def forward(self, x, edge_index):\n",
    "        # x has shape [N, in_channels]\n",
    "        # edge_index has shape [2, E]\n",
    "        \n",
    "        # linear transformation of input features \n",
    "        x = self.lin(x)\n",
    "        \n",
    "        return self.propagate(edge_index, x=x)\n",
    "       \n",
    "class MYACRConv(MessagePassing):\n",
    "    def __init__(self, in_channels, out_channels):\n",
    "        super().__init__(aggr='add',flow=\"source_to_target\")\n",
    "        # Only one of the linear components needs a bias, since otherwise would\n",
    "        # just end up with the sum of the three biases\n",
    "        self.ic=in_channels\n",
    "        self.oc=out_channels\n",
    "        self.A=torch.nn.Linear(in_channels, out_channels, bias=False)\n",
    "        self.R=torch.nn.Linear(in_channels, out_channels, bias=False)\n",
    "        self.C=torch.nn.Linear(in_channels, out_channels, bias=False)\n",
    "        self.b=torch.nn.Parameter(torch.rand(self.oc))\n",
    "       \n",
    "    def forward(self, x, edge_index, batch):\n",
    "        # x has shape [N, in_channels]\n",
    "        # edge_index has shape [2, E]\n",
    "        \n",
    "        #Uncomment the following if no batches are defined\n",
    "        #batch=torch.zeros(x.shape[0],dtype=torch.int64)\n",
    "        r = global_add_pool(x,batch)\n",
    "        \n",
    "        # linear transformation of readout \n",
    "        r=self.R(r)\n",
    "        #print(\"r after linear: {}\".format(r))\n",
    "        # reshapes to (numnodes x features) matrix (with identical rows):\n",
    "        r = r[batch]\n",
    "        \n",
    "        # linear transformation of neighbor features \n",
    "        messages = self.A(x)\n",
    "        \n",
    "        # linear transformation of own features\n",
    "        private = self.C(x)\n",
    "        \n",
    "        #print(\"batch: {}\".format(batch))\n",
    "        \n",
    "        #print(\"r computed: {}\".format(r))\n",
    "        \n",
    "#         self.propagate(edge_index, size=None, **kwargs):\n",
    "#         The initial call to start propagating messages. Takes in the \n",
    "#         edge indices and all additional data which is needed to construct \n",
    "#         messages and to update node embeddings. \n",
    "        \n",
    "        return private + self.propagate(edge_index, x=messages, readout=r)\n",
    "    \n",
    "    \n",
    "    \n",
    "#         Updates node embeddings for each node . \n",
    "#         Takes in the output of aggregation as first argument and any \n",
    "#         argument which was initially passed to propagate().\n",
    "    def update(self,x,readout):\n",
    "\n",
    "    #print(\"update for x= {} and \\n r = {}\".format(x,readout))\n",
    "        return nn.functional.sigmoid(x+readout+self.b)\n",
    "    \n",
    "    def init(self):\n",
    "        self.A.weight.data.uniform_(-1,1)\n",
    "        self.R.weight.data.uniform_(-1,1)\n",
    "        self.C.weight.data.uniform_(-1,1)\n",
    "        self.b.data.uniform_(-1,1)"
   ]
  },
  {
   "cell_type": "code",
   "execution_count": 4,
   "id": "0253163e",
   "metadata": {},
   "outputs": [],
   "source": [
    "class MYACRGnn(nn.Module):\n",
    "    def __init__(self,dims):\n",
    "        super().__init__()\n",
    "        #self.layers=nn.Sequential()\n",
    "        self.layers=torch.nn.ModuleList()\n",
    "        for d in range(len(dims)-2):\n",
    "            self.layers.append(MYACRConv(dims[d],dims[d+1]))\n",
    "        \n",
    "        self.layers.append(nn.Linear(dims[-2],dims[-1],bias=True))\n",
    "        self.layers.append(nn.Sigmoid())\n",
    "        \n",
    "    def forward(self,x,graph,batch):\n",
    "        h=x\n",
    "        for i in range(len(self.layers)):\n",
    "            l=self.layers[i]  \n",
    "            if type(l)==MYACRConv:\n",
    "                h=l.forward(h,graph,batch)\n",
    "            else:\n",
    "                h=l.forward(h)\n",
    "        return h\n",
    "    \n",
    "    def init(self):\n",
    "        for i in range(len(self.layers)):\n",
    "            l=self.layers[i] \n",
    "            if type(l)==MYACRConv:\n",
    "                l.init()\n",
    "            if type(l)==nn.Linear:\n",
    "                l.weight.data.uniform_(-1,1)\n",
    "                l.bias.data.uniform_(-1,1)\n",
    "        \n",
    "        \n",
    "    def printparameters(self):\n",
    "        print(\"0.A: {}\".format(self.layers[0].A.weight.data))\n",
    "        print(\"0.R: {}\".format(self.layers[0].R.weight.data))\n",
    "\n",
    "        print(\"1 weights: {}\".format(self.layers[1].weight.data))\n",
    "        print(\"1 bias: {}\".format(self.layers[1].bias.data))\n",
    "\n",
    "        print(\"3 weights: {}\".format(self.layers[3].weight.data))\n",
    "        print(\"3 bias: {}\".format(self.layers[3].bias.data))\n",
    "        \n",
    "    def exportparameters(self,filepath):  \n",
    "        weights =[]\n",
    "        biases = []\n",
    "        \n",
    "        for i in range(len(self.layers)):\n",
    "            if type(self.layers[i])==MYACRConv:\n",
    "                wdic={'A':self.layers[i].A.weight.data,'R':self.layers[i].R.weight.data,'C':self.layers[i].C.weight.data,}\n",
    "                weights.append(wdic)\n",
    "                biases.append(self.layers[i].b.data)\n",
    "            if type(self.layers[i])==nn.Linear:\n",
    "                weights.append(self.layers[i].weight.data)\n",
    "                biases.append(self.layers[i].bias.data)\n",
    "        pickle.dump({'weights':weights,'biases':biases}, open( filepath+'.p', \"wb\" ) )\n",
    "        \n",
    "    def loadparameters(self,filepath):\n",
    "        # loads parameters from file generated by exportparameters\n",
    "        params=pickle.load(open(filepath,\"rb\"))\n",
    "        weights=params['weights']\n",
    "        biases=params['biases']\n",
    "        for i in range(len(self.layers)):\n",
    "            if type(self.layers[i])==MYACRConv:\n",
    "                wdic=weights[i]\n",
    "                self.layers[i].A.weight.data=wdic['A']\n",
    "                self.layers[i].R.weight.data=wdic['R']\n",
    "                self.layers[i].C.weight.data=wdic['C']\n",
    "                self.layers[i].b.data=biases[i]\n",
    "            if type(self.layers[i])==nn.Linear:\n",
    "                self.layers[i].weight.data=weights[i]\n",
    "                self.layers[i].bias.data=biases[i]"
   ]
  },
  {
   "cell_type": "markdown",
   "id": "79971182",
   "metadata": {},
   "source": [
    "Manual setting of parameters for the alpha1-[4] model (both just count the number of blue nodes):"
   ]
  },
  {
   "cell_type": "code",
   "execution_count": null,
   "id": "35ecc991",
   "metadata": {},
   "outputs": [],
   "source": [
    "model.layers[0].A.weight.data=torch.tensor([[-9.0,0.0,0.0,0.0,0.0],[9.0,0.0,0.0,0.0,0.0],[0.0,0.0,0.0,0.0,0.0],[0.0,0.0,0.0,0.0,0.0]])\n",
    "model.layers[0].R.weight.data=torch.tensor([[9.0,0.0,0.0,0.0,0.0],[-9.0,0.0,0.0,0.0,0.0],[0.0,0.0,0.0,0.0,0.0],[0.0,0.0,0.0,0.0,0.0]])\n",
    "model.layers[0].C.weight.data=torch.tensor([[0.0,0.0,0.0,0.0,0.0],[0.0,0.0,0.0,0.0,0.0],[0.0,0.0,0.0,0.0,0.0],[0.0,0.0,0.0,0.0,0.0]])\n",
    "model.layers[0].b.data=torch.nn.Parameter(torch.tensor([-69.0,96.0,0.0,0.0]))\n",
    "\n",
    "\n",
    "model.layers[1].weight.data=torch.tensor([[9.0,9.0,0.0,0.0]])\n",
    "model.layers[1].bias.data=torch.tensor([[-13.0]])"
   ]
  },
  {
   "cell_type": "code",
   "execution_count": null,
   "id": "1e08497a",
   "metadata": {},
   "outputs": [],
   "source": [
    "model.layers[0].A.weight.data=torch.tensor([[1.0,0.0,0.0,0.0,0.0],[0.0,0.0,0.0,0.0,0.0],[0.0,0.0,0.0,0.0,0.0],[0.0,0.0,0.0,0.0,0.0]])\n",
    "model.layers[0].R.weight.data=torch.tensor([[0.0,0.0,0.0,0.0,0.0],[1.0,0.0,0.0,0.0,0.0],[0.0,0.0,0.0,0.0,0.0],[0.0,0.0,0.0,0.0,0.0]])\n",
    "model.layers[0].C.weight.data=torch.tensor([[0.0,0.0,0.0,0.0,0.0],[0.0,0.0,0.0,0.0,0.0],[0.0,0.0,0.0,0.0,0.0],[0.0,0.0,0.0,0.0,0.0]])\n",
    "model.layers[0].A.bias.data=torch.tensor([0.0,0.0,0.0,0.0])\n",
    "\n",
    "model.layers[2].weight.data=torch.tensor([[-9.0,9.0,0.0,0.0],[9.0,-9.0,0.0,0.0]])\n",
    "model.layers[2].bias.data=torch.tensor([[-69.0,96,0.0,0.0]])\n",
    "\n",
    "model.layers[3].weight.data=torch.tensor([[-9.0,-9.0],[9.0,9.0]])\n",
    "model.layers[3].bias.data=torch.tensor([[12.0,-13.0]])"
   ]
  },
  {
   "cell_type": "markdown",
   "id": "bb80ce97",
   "metadata": {},
   "source": [
    "Reading parameters from stored pickle file"
   ]
  },
  {
   "cell_type": "code",
   "execution_count": null,
   "id": "73554833",
   "metadata": {},
   "outputs": [],
   "source": [
    "alpha=1\n",
    "dims=(5,4,1)\n",
    "\n",
    "basedir = 'GraphNN-develop/'\n",
    "savedir = basedir + 'Alpha'+str(alpha)+'-learned-params-'+str(dims)+ '/'\n",
    "\n",
    "file='params-epoch190.p'\n",
    "\n",
    "picklefile=savedir+file\n",
    "\n",
    "params=pickle.load(open(picklefile,\"rb\"))"
   ]
  },
  {
   "cell_type": "markdown",
   "id": "d1b4c8b6",
   "metadata": {},
   "source": [
    "#### Testing on tiny graph"
   ]
  },
  {
   "cell_type": "code",
   "execution_count": null,
   "id": "5c9a2efa",
   "metadata": {},
   "outputs": [],
   "source": [
    "edge_index=torch.tensor([[0,1,2],[2,2,3]])\n",
    "x=torch.tensor([[0.0,1.0,0.0],[0.0,1.0,0.0],[1.0,0.0,0.0],[0.0,0.0,1.0]])\n",
    "batch=torch.tensor([0,0,0,0],dtype=torch.long)\n",
    "\n",
    "model=MYACRGnn(3,3)\n",
    "\n",
    "model.layers[0].A.weight.data=torch.tensor([[1.0,0.0,0.0],[0.0,1.0,0.0],[0.0,0.0,1.0]])\n",
    "model.layers[0].R.weight.data=torch.tensor([[1.0,0.0,0.0],[0.0,1.0,0.0],[0.0,0.0,0.0]])\n",
    "model.layers[0].C.weight.data=torch.tensor([[1.0,0.0,0.0],[0.0,1.0,0.0],[0.0,0.0,1.0]])\n",
    "\n",
    "\n",
    "\n",
    "model(x,edge_index,batch)"
   ]
  },
  {
   "cell_type": "markdown",
   "id": "ead14bb2",
   "metadata": {},
   "source": [
    "### Setting up the experiment"
   ]
  },
  {
   "cell_type": "code",
   "execution_count": 21,
   "id": "f4b3509f",
   "metadata": {},
   "outputs": [],
   "source": [
    "alpha = 1\n",
    "dims = (5,4,1)\n",
    "\n",
    "model=MYACRGnn(dims)\n",
    "model.init()"
   ]
  },
  {
   "cell_type": "code",
   "execution_count": 58,
   "id": "cb527f14",
   "metadata": {},
   "outputs": [
    {
     "name": "stdout",
     "output_type": "stream",
     "text": [
      "Loading data...\n",
      "#Graphs: 5000\n",
      "#Graphs Labels: 2\n",
      "#Node Features: 5\n",
      "#Node Labels: 2\n",
      "Number of batches: 200\n"
     ]
    }
   ],
   "source": [
    "basedir = 'GraphNN-develop/'\n",
    "\n",
    "datadir = basedir + 'GNNdata/p' + str(alpha)+ '/'\n",
    "\n",
    "\n",
    "\n",
    "datastem=\"train-random-erdos-5000-40-50\"\n",
    "datafile= datastem+\".txt\"\n",
    "\n",
    "data_train,_=util.load_data(\n",
    "                     dataset=datadir+datafile,\n",
    "                     degree_as_node_label=False)\n",
    "#returns list of torch_geometric.data.data.Data (list item = one graph)\n",
    "\n",
    "\n",
    "datastem_2=\"barabasi_albert_15_20_n5000\"\n",
    "datafile=datastem_2+\".p\"\n",
    "data_2=pickle.load(open(datadir+datafile,\"rb\"))\n",
    "for d in data_2:\n",
    "    d.graph_label=torch.tensor([1]) # for compatibility with ACR data loaded \n",
    "    \n",
    "data_train = data_train + data_2\n",
    "\n",
    "\n",
    "datastem = datastem +\"+\" + datastem_2\n",
    "\n",
    "loader = DataLoader(data_train,batch_size=50, shuffle=True)\n",
    "print(\"Number of batches: {}\".format(len(loader)))\n"
   ]
  },
  {
   "cell_type": "code",
   "execution_count": 49,
   "id": "e8ce8ce1",
   "metadata": {},
   "outputs": [
    {
     "name": "stdout",
     "output_type": "stream",
     "text": [
      "Number of batches: 100\n"
     ]
    }
   ],
   "source": [
    "# data,_=util.load_data(\n",
    "#                      dataset=datadir+datafile,\n",
    "#                      degree_as_node_label=False)\n",
    "#returns list of torch_geometric.data.data.Data (list item = one graph)\n",
    "\n",
    "data=pickle.load(open(datadir+datafile,\"rb\"))\n",
    "loader = DataLoader(data,batch_size=50, shuffle=True)\n",
    "print(\"Number of batches: {}\".format(len(loader)))\n",
    "\n"
   ]
  },
  {
   "cell_type": "markdown",
   "id": "b1be9f48",
   "metadata": {},
   "source": [
    "Main learning loop"
   ]
  },
  {
   "cell_type": "code",
   "execution_count": 60,
   "id": "741798ac",
   "metadata": {},
   "outputs": [
    {
     "name": "stdout",
     "output_type": "stream",
     "text": [
      "Epoch: 0  Loss: 213756.65631103516  Accuracy: 0.5450533425435566\n",
      "Epoch: 1  Loss: 204899.59912109375  Accuracy: 0.5889458131859697\n",
      "Epoch: 2  Loss: 167992.67987060547  Accuracy: 0.7817848645329649\n",
      "Epoch: 3  Loss: 127198.146484375  Accuracy: 0.8557065008826464\n",
      "Epoch: 4  Loss: 109560.18801879883  Accuracy: 0.8633145291273313\n",
      "Epoch: 5  Loss: 100701.86605834961  Accuracy: 0.8675518714662164\n",
      "Epoch: 6  Loss: 94853.29440307617  Accuracy: 0.8729820656484253\n",
      "Epoch: 7  Loss: 89684.99237060547  Accuracy: 0.8771938240335662\n",
      "Epoch: 8  Loss: 86547.40661621094  Accuracy: 0.8811305549159567\n",
      "Epoch: 9  Loss: 83675.42358398438  Accuracy: 0.8850417018446031\n",
      "Epoch: 10  Loss: 80738.46224975586  Accuracy: 0.8896148335763809\n",
      "Epoch: 11  Loss: 77561.76580810547  Accuracy: 0.8943702509785862\n",
      "Epoch: 12  Loss: 76216.18432617188  Accuracy: 0.8974051474914934\n",
      "Epoch: 13  Loss: 73528.44567871094  Accuracy: 0.9018599534372042\n",
      "Epoch: 14  Loss: 71204.9967956543  Accuracy: 0.9056399826029115\n",
      "Epoch: 15  Loss: 68618.70797729492  Accuracy: 0.9089914805434032\n",
      "Epoch: 16  Loss: 66808.96362304688  Accuracy: 0.9126307979635173\n",
      "Epoch: 17  Loss: 64634.535400390625  Accuracy: 0.9163084913142477\n",
      "Epoch: 18  Loss: 62390.93325805664  Accuracy: 0.9205810115895311\n",
      "Epoch: 19  Loss: 60006.90701293945  Accuracy: 0.9250390155294599\n",
      "Epoch: 20  Loss: 58327.206802368164  Accuracy: 0.9271848696497557\n",
      "Epoch: 21  Loss: 56689.68832397461  Accuracy: 0.9289341724870162\n",
      "Epoch: 22  Loss: 55477.08711242676  Accuracy: 0.9303412899429477\n",
      "Epoch: 23  Loss: 54187.54345703125  Accuracy: 0.931207946376033\n",
      "Epoch: 24  Loss: 53670.75704956055  Accuracy: 0.932176938624095\n",
      "Epoch: 25  Loss: 52430.884765625  Accuracy: 0.9333346125310206\n",
      "Epoch: 26  Loss: 49395.01795959473  Accuracy: 0.9355987924373833\n",
      "Epoch: 27  Loss: 42365.984130859375  Accuracy: 0.9427622994857625\n",
      "Epoch: 28  Loss: 38004.43298339844  Accuracy: 0.9567599201780643\n",
      "Epoch: 29  Loss: 35041.131980895996  Accuracy: 0.9603192877427278\n",
      "Epoch: 30  Loss: 32712.568382263184  Accuracy: 0.9616496533374268\n",
      "Epoch: 31  Loss: 30796.09107208252  Accuracy: 0.9634501240821757\n",
      "Epoch: 32  Loss: 29257.20623779297  Accuracy: 0.9650874971218052\n",
      "Epoch: 33  Loss: 27164.230949401855  Accuracy: 0.9677610202880753\n",
      "Epoch: 34  Loss: 25019.05763244629  Accuracy: 0.97073515491084\n",
      "Epoch: 35  Loss: 23567.203926086426  Accuracy: 0.9729065929848799\n",
      "Epoch: 36  Loss: 21686.953380584717  Accuracy: 0.976558702381866\n",
      "Epoch: 37  Loss: 20249.894050598145  Accuracy: 0.978726942461688\n",
      "Epoch: 38  Loss: 18515.778930664062  Accuracy: 0.9825453475580116\n",
      "Epoch: 39  Loss: 15832.219341278076  Accuracy: 0.9883113311331133\n",
      "Epoch: 40  Loss: 13684.305885314941  Accuracy: 0.9923631898073528\n",
      "Epoch: 41  Loss: 10601.854557037354  Accuracy: 0.9974927725330672\n",
      "Epoch: 42  Loss: 7076.662541389465  Accuracy: 0.9996674086013253\n",
      "Epoch: 43  Loss: 3844.0803995132446  Accuracy: 1.0\n",
      "Epoch: 44  Loss: 3237.960436820984  Accuracy: 1.0\n",
      "Epoch: 45  Loss: 2731.2762489318848  Accuracy: 1.0\n",
      "Epoch: 46  Loss: 2387.4739294052124  Accuracy: 1.0\n",
      "Epoch: 47  Loss: 2127.2853388786316  Accuracy: 1.0\n",
      "Epoch: 48  Loss: 1862.015127658844  Accuracy: 1.0\n",
      "Epoch: 49  Loss: 1653.0286297798157  Accuracy: 1.0\n",
      "Epoch: 50  Loss: 1462.530240535736  Accuracy: 1.0\n",
      "Epoch: 51  Loss: 1284.2400827407837  Accuracy: 1.0\n",
      "Epoch: 52  Loss: 1151.3622949123383  Accuracy: 1.0\n",
      "Epoch: 53  Loss: 1035.4837822914124  Accuracy: 1.0\n",
      "Epoch: 54  Loss: 928.1869370937347  Accuracy: 1.0\n",
      "Epoch: 55  Loss: 826.2436275482178  Accuracy: 1.0\n",
      "Epoch: 56  Loss: 769.0401563644409  Accuracy: 1.0\n",
      "Epoch: 57  Loss: 687.5738110542297  Accuracy: 1.0\n",
      "Epoch: 58  Loss: 577.385533452034  Accuracy: 1.0\n",
      "Epoch: 59  Loss: 524.2032846212387  Accuracy: 1.0\n",
      "Epoch: 60  Loss: 483.4696078300476  Accuracy: 1.0\n",
      "Epoch: 61  Loss: 419.0432585477829  Accuracy: 1.0\n",
      "Epoch: 62  Loss: 385.7498844861984  Accuracy: 1.0\n",
      "Epoch: 63  Loss: 348.19446074962616  Accuracy: 1.0\n",
      "Epoch: 64  Loss: 308.9539853334427  Accuracy: 1.0\n",
      "Epoch: 65  Loss: 274.58879166841507  Accuracy: 1.0\n",
      "Epoch: 66  Loss: 247.3868829011917  Accuracy: 1.0\n",
      "Epoch: 67  Loss: 218.63801991939545  Accuracy: 1.0\n",
      "Epoch: 68  Loss: 204.42006397247314  Accuracy: 1.0\n",
      "Epoch: 69  Loss: 174.9218454360962  Accuracy: 1.0\n",
      "Epoch: 70  Loss: 159.57885771989822  Accuracy: 1.0\n",
      "Epoch: 71  Loss: 143.93789911270142  Accuracy: 1.0\n",
      "Epoch: 72  Loss: 133.32712572813034  Accuracy: 1.0\n",
      "Epoch: 73  Loss: 117.14546284079552  Accuracy: 1.0\n",
      "Epoch: 74  Loss: 105.99135482311249  Accuracy: 1.0\n",
      "Epoch: 75  Loss: 92.72617244720459  Accuracy: 1.0\n",
      "Epoch: 76  Loss: 84.15560927987099  Accuracy: 1.0\n",
      "Epoch: 77  Loss: 76.13651537895203  Accuracy: 1.0\n",
      "Epoch: 78  Loss: 67.53378455340862  Accuracy: 1.0\n",
      "Epoch: 79  Loss: 60.758123621344566  Accuracy: 1.0\n",
      "Epoch: 80  Loss: 55.135717272758484  Accuracy: 1.0\n",
      "Epoch: 81  Loss: 50.95959536731243  Accuracy: 1.0\n",
      "Epoch: 82  Loss: 44.43997226655483  Accuracy: 1.0\n",
      "Epoch: 83  Loss: 39.738613322377205  Accuracy: 1.0\n",
      "Epoch: 84  Loss: 41.95753834396601  Accuracy: 1.0\n",
      "Epoch: 85  Loss: 32.04594998061657  Accuracy: 1.0\n",
      "Epoch: 86  Loss: 29.211102455854416  Accuracy: 1.0\n",
      "Epoch: 87  Loss: 26.077952958643436  Accuracy: 1.0\n",
      "Epoch: 88  Loss: 23.847285196185112  Accuracy: 1.0\n",
      "Epoch: 89  Loss: 22.245198167860508  Accuracy: 1.0\n",
      "Epoch: 90  Loss: 19.072611339390278  Accuracy: 1.0\n",
      "Epoch: 91  Loss: 17.150014393031597  Accuracy: 1.0\n",
      "Epoch: 92  Loss: 16.89134331420064  Accuracy: 1.0\n",
      "Epoch: 93  Loss: 14.327777989208698  Accuracy: 1.0\n",
      "Epoch: 94  Loss: 12.569940987974405  Accuracy: 1.0\n",
      "Epoch: 95  Loss: 11.322887443006039  Accuracy: 1.0\n",
      "Epoch: 96  Loss: 10.14918103441596  Accuracy: 1.0\n",
      "Epoch: 97  Loss: 9.304997723549604  Accuracy: 1.0\n",
      "Epoch: 98  Loss: 8.792808175086975  Accuracy: 1.0\n",
      "Epoch: 99  Loss: 7.599171459674835  Accuracy: 1.0\n",
      "Epoch: 100  Loss: 7.108650259673595  Accuracy: 1.0\n",
      "Epoch: 101  Loss: 6.492843620479107  Accuracy: 1.0\n",
      "Epoch: 102  Loss: 5.38461758941412  Accuracy: 1.0\n",
      "Epoch: 103  Loss: 5.2100792322307825  Accuracy: 1.0\n",
      "Epoch: 104  Loss: 4.426117990165949  Accuracy: 1.0\n",
      "Epoch: 105  Loss: 3.9261972308158875  Accuracy: 1.0\n",
      "Epoch: 106  Loss: 3.6392689272761345  Accuracy: 1.0\n",
      "Epoch: 107  Loss: 3.242864995263517  Accuracy: 1.0\n",
      "Epoch: 108  Loss: 2.966446871869266  Accuracy: 1.0\n",
      "Epoch: 109  Loss: 2.676286783069372  Accuracy: 1.0\n",
      "Epoch: 110  Loss: 2.4454149901866913  Accuracy: 1.0\n",
      "Epoch: 111  Loss: 2.2298815227113664  Accuracy: 1.0\n",
      "Epoch: 112  Loss: 1.9333179406821728  Accuracy: 1.0\n",
      "Epoch: 113  Loss: 1.7555019683204591  Accuracy: 1.0\n",
      "Epoch: 114  Loss: 1.6090543386526406  Accuracy: 1.0\n",
      "Epoch: 115  Loss: 82785.24520306848  Accuracy: 0.9916916110215672\n",
      "Epoch: 116  Loss: 11.003305964171886  Accuracy: 1.0\n",
      "Epoch: 117  Loss: 5.762948694638908  Accuracy: 1.0\n",
      "Epoch: 118  Loss: 4.344278268516064  Accuracy: 1.0\n",
      "Epoch: 119  Loss: 3.6825779983773828  Accuracy: 1.0\n",
      "Epoch: 120  Loss: 3.2982970317825675  Accuracy: 1.0\n",
      "Epoch: 121  Loss: 3.041480573825538  Accuracy: 1.0\n",
      "Epoch: 122  Loss: 2.8502585985697806  Accuracy: 1.0\n",
      "Epoch: 123  Loss: 2.69567237701267  Accuracy: 1.0\n",
      "Epoch: 124  Loss: 2.571407080627978  Accuracy: 1.0\n",
      "Epoch: 125  Loss: 2.4582852320745587  Accuracy: 1.0\n",
      "Epoch: 126  Loss: 2.3584822062402964  Accuracy: 1.0\n",
      "Epoch: 127  Loss: 2.270854853093624  Accuracy: 1.0\n",
      "Epoch: 128  Loss: 2.190469378605485  Accuracy: 1.0\n",
      "Epoch: 129  Loss: 2.119039394892752  Accuracy: 1.0\n",
      "Epoch: 130  Loss: 2.0493984292261302  Accuracy: 1.0\n",
      "Epoch: 131  Loss: 1.9873041692189872  Accuracy: 1.0\n",
      "Epoch: 132  Loss: 1.9289450095966458  Accuracy: 1.0\n",
      "Epoch: 133  Loss: 1.8754944899119437  Accuracy: 1.0\n",
      "Epoch: 134  Loss: 1.824483566917479  Accuracy: 1.0\n",
      "Epoch: 135  Loss: 1.777955628465861  Accuracy: 1.0\n",
      "Epoch: 136  Loss: 1.736617413815111  Accuracy: 1.0\n",
      "Epoch: 137  Loss: 1.6974501656368375  Accuracy: 1.0\n",
      "Epoch: 138  Loss: 1.6634101569652557  Accuracy: 1.0\n",
      "Epoch: 139  Loss: 1.629161267541349  Accuracy: 1.0\n",
      "Epoch: 140  Loss: 1.5992503841407597  Accuracy: 1.0\n",
      "Epoch: 141  Loss: 1.5715112686157227  Accuracy: 1.0\n",
      "Epoch: 142  Loss: 1.5463525908999145  Accuracy: 1.0\n",
      "Epoch: 143  Loss: 1.5216752109117806  Accuracy: 1.0\n",
      "Epoch: 144  Loss: 1.4989222679287195  Accuracy: 1.0\n",
      "Epoch: 145  Loss: 1.4776394260115921  Accuracy: 1.0\n",
      "Epoch: 146  Loss: 1.4574760249815881  Accuracy: 1.0\n",
      "Epoch: 147  Loss: 1.4386284439824522  Accuracy: 1.0\n",
      "Epoch: 148  Loss: 1.421036777086556  Accuracy: 1.0\n"
     ]
    },
    {
     "name": "stdout",
     "output_type": "stream",
     "text": [
      "Epoch: 149  Loss: 1.4035044265910983  Accuracy: 1.0\n",
      "Epoch: 150  Loss: 1.387161549180746  Accuracy: 1.0\n",
      "Epoch: 151  Loss: 1.3719533560797572  Accuracy: 1.0\n",
      "Epoch: 152  Loss: 1.3586433953605592  Accuracy: 1.0\n",
      "Epoch: 153  Loss: 1.343324039131403  Accuracy: 1.0\n",
      "Epoch: 154  Loss: 1.3299379497766495  Accuracy: 1.0\n",
      "Epoch: 155  Loss: 1.3155591669492424  Accuracy: 1.0\n",
      "Epoch: 156  Loss: 1.3041484751738608  Accuracy: 1.0\n",
      "Epoch: 157  Loss: 1.2910882863216102  Accuracy: 1.0\n",
      "Epoch: 158  Loss: 1.279831557534635  Accuracy: 1.0\n",
      "Epoch: 159  Loss: 1.2675916240550578  Accuracy: 1.0\n",
      "Epoch: 160  Loss: 1.257267348933965  Accuracy: 1.0\n",
      "Epoch: 161  Loss: 1.2421636115759611  Accuracy: 1.0\n",
      "Epoch: 162  Loss: 1.2293244455941021  Accuracy: 1.0\n",
      "Epoch: 163  Loss: 1.2154874505940825  Accuracy: 1.0\n",
      "Epoch: 164  Loss: 1.206068514380604  Accuracy: 1.0\n",
      "Epoch: 165  Loss: 1.1840632767416537  Accuracy: 1.0\n",
      "Epoch: 166  Loss: 1.1641207071952522  Accuracy: 1.0\n",
      "Epoch: 167  Loss: 1.1445246352814138  Accuracy: 1.0\n",
      "Epoch: 168  Loss: 1.125614462653175  Accuracy: 1.0\n",
      "Epoch: 169  Loss: 1.1041166598442942  Accuracy: 1.0\n",
      "Epoch: 170  Loss: 1.0806668773293495  Accuracy: 1.0\n",
      "Epoch: 171  Loss: 1.0561024621129036  Accuracy: 1.0\n",
      "Epoch: 172  Loss: 1.0323640368878841  Accuracy: 1.0\n",
      "Epoch: 173  Loss: 1.0018188506364822  Accuracy: 1.0\n",
      "Epoch: 174  Loss: 0.9758164249360561  Accuracy: 1.0\n",
      "Epoch: 175  Loss: 0.9468843985814601  Accuracy: 1.0\n",
      "Epoch: 176  Loss: 0.9210854975972325  Accuracy: 1.0\n",
      "Epoch: 177  Loss: 0.8836679954547435  Accuracy: 1.0\n",
      "Epoch: 178  Loss: 0.8593517325352877  Accuracy: 1.0\n",
      "Epoch: 179  Loss: 0.8236790061928332  Accuracy: 1.0\n",
      "Epoch: 180  Loss: 0.7859476807061583  Accuracy: 1.0\n",
      "Epoch: 181  Loss: 0.7513670695479959  Accuracy: 1.0\n",
      "Epoch: 182  Loss: 0.7140960705000907  Accuracy: 1.0\n",
      "Epoch: 183  Loss: 0.6882164019625634  Accuracy: 1.0\n",
      "Epoch: 184  Loss: 0.650805750861764  Accuracy: 1.0\n",
      "Epoch: 185  Loss: 0.6186792477965355  Accuracy: 1.0\n",
      "Epoch: 186  Loss: 0.5774635138222948  Accuracy: 1.0\n",
      "Epoch: 187  Loss: 0.5439362428151071  Accuracy: 1.0\n",
      "Epoch: 188  Loss: 0.5134550879010931  Accuracy: 1.0\n",
      "Epoch: 189  Loss: 0.48366810544393957  Accuracy: 1.0\n",
      "Epoch: 190  Loss: 0.45366054866462946  Accuracy: 1.0\n",
      "Epoch: 191  Loss: 0.41715738258790225  Accuracy: 1.0\n",
      "Epoch: 192  Loss: 0.3950459269108251  Accuracy: 1.0\n",
      "Epoch: 193  Loss: 0.3586770712863654  Accuracy: 1.0\n",
      "Epoch: 194  Loss: 0.3333456926047802  Accuracy: 1.0\n",
      "Epoch: 195  Loss: 0.30759861425030977  Accuracy: 1.0\n",
      "Epoch: 196  Loss: 0.28369869850575924  Accuracy: 1.0\n",
      "Epoch: 197  Loss: 0.26094755495432764  Accuracy: 1.0\n",
      "Epoch: 198  Loss: 0.24078692466719076  Accuracy: 1.0\n",
      "Epoch: 199  Loss: 0.22311485500540584  Accuracy: 1.0\n",
      "OrderedDict([('layers.0.b', tensor([ 12.6625,  15.3433, -25.4251, -18.7408])), ('layers.0.A.weight', tensor([[ 5.0037e+00,  2.2726e-01,  2.2735e-01,  2.3322e-01,  2.2074e-01],\n",
      "        [ 1.5193e+00,  5.8314e-03,  5.5491e-03,  5.5090e-03,  6.0010e-03],\n",
      "        [-3.3217e+00,  4.1124e-04, -3.8173e-04, -1.1336e-04,  2.5237e-04],\n",
      "        [-1.8408e+00, -4.8017e-03, -3.5279e-03, -3.8978e-03, -4.5671e-03]])), ('layers.0.R.weight', tensor([[-3.2687e+00,  1.5456e+00,  1.5669e+00,  1.5637e+00,  1.5575e+00],\n",
      "        [-1.4873e+00,  1.6741e-02,  1.6895e-02,  1.7919e-02,  1.4951e-02],\n",
      "        [ 3.3079e+00, -9.2201e-04, -9.1903e-04, -1.1422e-03, -1.1882e-03],\n",
      "        [ 1.8086e+00, -1.3722e-02, -1.4503e-02, -1.5189e-02, -1.2757e-02]])), ('layers.0.C.weight', tensor([[ 0.8354,  1.1146, -0.2305, -0.4261,  0.0847],\n",
      "        [-0.5696,  0.1889, -0.0138, -0.5462, -0.7713],\n",
      "        [-0.3946, -1.3344, -1.3054, -0.9845, -0.1727],\n",
      "        [ 0.1011, -0.4503, -0.3520, -0.5165,  0.3708]])), ('layers.1.weight', tensor([[ -7.1515,  40.1718,  47.3770, -29.1675]])), ('layers.1.bias', tensor([-0.5826]))])\n",
      "OrderedDict([('layers.0.b', tensor([ 12.6625,  15.3433, -25.4251, -18.7408])), ('layers.0.A.weight', tensor([[ 5.0037e+00,  2.2726e-01,  2.2735e-01,  2.3322e-01,  2.2074e-01],\n",
      "        [ 1.5193e+00,  5.8314e-03,  5.5491e-03,  5.5090e-03,  6.0010e-03],\n",
      "        [-3.3217e+00,  4.1124e-04, -3.8173e-04, -1.1336e-04,  2.5237e-04],\n",
      "        [-1.8408e+00, -4.8017e-03, -3.5279e-03, -3.8978e-03, -4.5671e-03]])), ('layers.0.R.weight', tensor([[-3.2687e+00,  1.5456e+00,  1.5669e+00,  1.5637e+00,  1.5575e+00],\n",
      "        [-1.4873e+00,  1.6741e-02,  1.6895e-02,  1.7919e-02,  1.4951e-02],\n",
      "        [ 3.3079e+00, -9.2201e-04, -9.1903e-04, -1.1422e-03, -1.1882e-03],\n",
      "        [ 1.8086e+00, -1.3722e-02, -1.4503e-02, -1.5189e-02, -1.2757e-02]])), ('layers.0.C.weight', tensor([[ 0.8354,  1.1146, -0.2305, -0.4261,  0.0847],\n",
      "        [-0.5696,  0.1889, -0.0138, -0.5462, -0.7713],\n",
      "        [-0.3946, -1.3344, -1.3054, -0.9845, -0.1727],\n",
      "        [ 0.1011, -0.4503, -0.3520, -0.5165,  0.3708]])), ('layers.1.weight', tensor([[ -7.1515,  40.1718,  47.3770, -29.1675]])), ('layers.1.bias', tensor([-0.5826]))])\n",
      "final accuracy: 1.0\n"
     ]
    },
    {
     "data": {
      "image/png": "[encoded data removed]",
      "text/plain": [
       "<Figure size 720x432 with 2 Axes>"
      ]
     },
     "metadata": {
      "needs_background": "light"
     },
     "output_type": "display_data"
    }
   ],
   "source": [
    "# Adam paper    Pytorch (with defaults)\n",
    "# ======================================\n",
    "# alpha         lr = 0.001\n",
    "# beta1,beta2   betas=(0.9, 0.999)\n",
    "# epsilon       eps=1e-08\n",
    "#               weight_decay=0  (L2 regularization)\n",
    "\n",
    "savedir = basedir + 'Alpha'+str(alpha)+'-learned-params-'+str(dims)+ '/' \n",
    "if not os.path.isdir(savedir):\n",
    "    os.mkdir(savedir)\n",
    "savedir = savedir + datastem+ '/'\n",
    "if not os.path.isdir(savedir):\n",
    "    os.mkdir(savedir)\n",
    "\n",
    "\n",
    "filestem = 'params-'\n",
    "\n",
    "optimizer = torch.optim.Adam(model.parameters(),lr=0.01)\n",
    "#scheduler = torch.optim.lr_scheduler.StepLR(optimizer, step_size=50, gamma=0.5)\n",
    "\n",
    "\n",
    "\n",
    "# print(\"Initial parameters: \")\n",
    "# model.printparameters()\n",
    "loss=nn.BCELoss(reduction='sum')\n",
    "\n",
    "#loss=nn.BCEWithLogitsLoss()\n",
    "\n",
    "restarts=1\n",
    "epochs=200\n",
    "\n",
    "fig,axes = plt.subplots(1,1,figsize=(10,6))\n",
    "rightax=axes.twinx()\n",
    "\n",
    "allepochloss=np.zeros((restarts,epochs))\n",
    "allepochacc=np.zeros((restarts,epochs))\n",
    "\n",
    "\n",
    "\n",
    "for r in range(restarts):\n",
    "    model.init()\n",
    "    model.train() #not clear whether anything happens here\n",
    "    \n",
    "    allloss=[]\n",
    "    allacc=[]\n",
    "\n",
    "    bestloss = math.inf\n",
    "    \n",
    "    for epoch in range(epochs):\n",
    "        t=0 # count of true predictions\n",
    "        f=0 # count of false predictions\n",
    "        epochloss=0\n",
    "        for batch in loader:\n",
    "            optimizer.zero_grad()\n",
    "            out = model(batch.x,batch.edge_index,batch.batch)\n",
    "            target = batch.node_labels\n",
    "            \n",
    "            # for BCE loss and one-hot label encoding:\n",
    "            # ohtarget = onehot(batch.node_labels) \n",
    "            \n",
    "            pred=np.vectorize(prediction)(out.detach()).reshape([-1])\n",
    "\n",
    "            tt=len(np.where(np.array(target)==pred)[0])\n",
    "            t+= tt\n",
    "            f+= len(target)-tt\n",
    "\n",
    "            l = loss(out.reshape([-1]),target.float())\n",
    "\n",
    "            epochloss+=l.detach().item()\n",
    "            l.backward()\n",
    "            optimizer.step()\n",
    "        #scheduler.step()\n",
    "        allloss.append(epochloss)\n",
    "        if epochloss < bestloss:\n",
    "            bestloss = epochloss\n",
    "            bestparams = model.state_dict()\n",
    "        acc=t/(t+f)\n",
    "        allacc.append(acc)\n",
    "        allepochacc[r,epoch]=acc\n",
    "        allepochloss[r,epoch]=epochloss\n",
    "        print(\"Epoch: {}  Loss: {}  Accuracy: {}\".format(epoch,epochloss,t/(t+f)))   \n",
    "        \n",
    "        # Save parameters of learned model every 10 epochs:\n",
    "#         if epoch%10==0:\n",
    "#             model.exportparameters(savedir+filestem+str(epoch)+\"_l\"+str(epochloss))\n",
    "#         print(\"A grad: {}\".format(model.layers[0].A.weight.grad))\n",
    "#         print(\"bias: {}\".format(model.layers[0].b.data))\n",
    "#         print(\"bias grad: {}\".format(model.layers[0].b.grad))\n",
    "        axes.plot(allloss,c='b',alpha=0.6)\n",
    "        rightax.plot(allacc,c='r',alpha=0.6)\n",
    "        \n",
    "    print(model.state_dict())   \n",
    "    model.load_state_dict(bestparams)\n",
    "    print(model.state_dict())   \n",
    "    model.exportparameters(savedir+filestem+str(epoch)+\"_l\"+str(bestloss))\n",
    "    print(\"final accuracy: {}\".format(acc))    \n",
    "    \n",
    "# fig,axes = plt.subplots(1,1)\n",
    "# rightax=axes.twinx()\n",
    "# # axes.plot(allloss,c='r')\n",
    "# rightax.plot(allacc,c='b')\n",
    "\n",
    "plt.show()\n",
    "\n",
    "#model.printparameters()"
   ]
  },
  {
   "cell_type": "code",
   "execution_count": null,
   "id": "d2df7da0",
   "metadata": {},
   "outputs": [],
   "source": [
    "savedat32d={'loss':allepochloss,'accuracy':allepochacc}\n",
    "print(savedir)\n",
    "\n",
    "pickle.dump(savedat32d, open( savedir+'loss-acc-alpha2-dim32-32-200epoch-3restarts.p',\\\n",
    "                          \"wb\" ) )"
   ]
  },
  {
   "cell_type": "code",
   "execution_count": null,
   "id": "308c1e7c",
   "metadata": {},
   "outputs": [],
   "source": [
    "savedir2='GraphNN-develop/Alpha1-learned-params-(5, 2, 1)/'\n",
    "savedir8='GraphNN-develop/Alpha1-learned-params-(5, 8, 1)/'\n",
    "#savedir64='GraphNN-develop/Alpha2-learned-params-(5, 64, 64, 1)/'\n",
    "\n",
    "d2=pickle.load(open(savedir2 + 'loss-acc-alpha1-dim2-200epoch.p','rb'))\n",
    "d8=pickle.load(open(savedir8 + 'loss-acc-alpha1-dim8-200epoch.p','rb'))\n",
    "#d64=pickle.load(open(savedir64 + 'loss-acc-alpha2-dim64-64-300epoch.p','rb'))"
   ]
  },
  {
   "cell_type": "markdown",
   "id": "c3322a98",
   "metadata": {},
   "source": [
    "### Testing"
   ]
  },
  {
   "cell_type": "markdown",
   "id": "edbeb82b",
   "metadata": {},
   "source": [
    "### A: setting up the model"
   ]
  },
  {
   "cell_type": "code",
   "execution_count": 94,
   "id": "007dcdf5",
   "metadata": {},
   "outputs": [],
   "source": [
    "alpha = 1\n",
    "dims = (5,4,1)\n",
    "\n",
    "model=MYACRGnn(dims)\n",
    "\n",
    "# Getting saved parameters:\n",
    "\n",
    "basedir = 'GraphNN-develop/'\n",
    "savedir = basedir + 'Alpha'+str(alpha)+'-learned-params-'+str(dims)+ '/'\n",
    "savedir = savedir + \"train-random-erdos-5000-40-50+barabasi_albert_15_20_n5000/\"\n",
    "\n",
    "file='params-199_l0.22311485500540584.p'\n",
    "\n",
    "picklefile=savedir+file\n",
    "\n",
    "model.loadparameters(picklefile)"
   ]
  },
  {
   "cell_type": "markdown",
   "id": "6d07e350",
   "metadata": {},
   "source": [
    "### B: setting up test data"
   ]
  },
  {
   "cell_type": "code",
   "execution_count": 95,
   "id": "ec83bc35",
   "metadata": {},
   "outputs": [],
   "source": [
    "# Reading a ACR dataset:\n",
    "\n",
    "# datafile=\"test-random-erdos-500-51-60.txt\"\n",
    "# datadir = basedir + 'GNNdata/p' + str(alpha)+ '/'\n",
    "\n",
    "# data_test,_=util.load_data(\n",
    "#                      dataset=datadir+datafile,\n",
    "#                      degree_as_node_label=False)\n",
    "\n",
    "\n",
    "#Reading a Pickle file:\n",
    "\n",
    "#datafile=\"barabasi_albert_15_20_n500.p\"\n",
    "datafile=\"blue_clique_6_15_n10.p\"\n",
    "datadir = basedir + 'GNNdata/p' + str(alpha)+ '/'\n",
    "\n",
    "data_test=pickle.load(open(datadir+datafile,\"rb\"))\n"
   ]
  },
  {
   "cell_type": "code",
   "execution_count": 96,
   "id": "6a5db6ad",
   "metadata": {},
   "outputs": [
    {
     "name": "stdout",
     "output_type": "stream",
     "text": [
      "Number of batches: 10\n"
     ]
    }
   ],
   "source": [
    "loader = DataLoader(data_test,batch_size=1, shuffle=True)\n",
    "\n",
    "print(\"Number of batches: {}\".format(len(loader)))"
   ]
  },
  {
   "cell_type": "markdown",
   "id": "5def735d",
   "metadata": {},
   "source": [
    "### C: doing the test"
   ]
  },
  {
   "cell_type": "code",
   "execution_count": 97,
   "id": "6e67096b",
   "metadata": {},
   "outputs": [
    {
     "name": "stdout",
     "output_type": "stream",
     "text": [
      "Accuracy: 1.0  Loss: 0.012574378401041031\n"
     ]
    }
   ],
   "source": [
    "\n",
    "t=0\n",
    "f=0\n",
    "\n",
    "loss=nn.BCELoss(reduction='sum')\n",
    "l=0\n",
    "\n",
    "for batch in loader:\n",
    "    \n",
    "    out = model(batch.x,batch.edge_index,batch.batch)\n",
    "    target = batch.node_labels\n",
    "    l+=loss(out.reshape([-1]),target.float())\n",
    "    \n",
    "    pred=torch.tensor(np.vectorize(prediction)(out.detach()).reshape([-1]))\n",
    "\n",
    "    tt=len(torch.where(target==pred)[0])\n",
    "    t+= tt\n",
    "    f+= len(target)-tt\n",
    "\n",
    "    #print(\"n: {}\".format(batch.x.shape[0]))\n",
    "    #print(\"Batch Accuracy: {}\".format(tt/len(target)))   \n",
    "\n",
    "print(\"Accuracy: {}  Loss: {}\".format(t/(t+f),l))\n"
   ]
  },
  {
   "cell_type": "markdown",
   "id": "8af4c91c",
   "metadata": {},
   "source": [
    "### [End clean code]"
   ]
  },
  {
   "cell_type": "code",
   "execution_count": null,
   "id": "481f2628",
   "metadata": {},
   "outputs": [],
   "source": [
    "type(onedata[0])"
   ]
  },
  {
   "cell_type": "code",
   "execution_count": null,
   "id": "adbbe280",
   "metadata": {},
   "outputs": [],
   "source": [
    "learncurves=pickle.load(open('GraphNN-develop/alpha1-[4]-pytorch-200epochrun.p', \\\n",
    "                             \"rb\" ) )\n",
    "trainacc=learncurves['accuracy']\n",
    "\n",
    "plt.plot(range(200),trainacc[0],c='r',label=\"train\")\n",
    "plt.plot(same_accs[1:,0],same_accs[1:,1],c='b',label=\"test\")\n",
    "#plt.plot(larger_accs[1:,0],larger_accs[1:,1],c='g',label=\"test-larger\")\n",
    "\n",
    "plt.legend()\n",
    "plt.ylim(0.999,1.0)\n",
    "plt.xlim(49,60)\n",
    "plt.show()"
   ]
  },
  {
   "cell_type": "code",
   "execution_count": null,
   "id": "0103304d",
   "metadata": {},
   "outputs": [],
   "source": [
    "print(type(data))\n",
    "print(type(onedata))\n",
    "\n",
    "print(type(data[0]))\n",
    "print(type(onedata[0]))\n",
    "print(type(gdata))\n"
   ]
  },
  {
   "cell_type": "markdown",
   "id": "29d08df2",
   "metadata": {},
   "source": [
    "From https://gist.github.com/yang-zhang/09460d9e90a1bf29fb6edf121865df86#file-binary_cross_entropy_with_logits-ipynb"
   ]
  },
  {
   "cell_type": "code",
   "execution_count": null,
   "id": "150ff29f",
   "metadata": {},
   "outputs": [],
   "source": [
    "def sigmoid(x): return (1 + (-x).exp()).reciprocal()\n",
    "def binary_cross_entropy(input, y): return -(pred.log()*y + (1-y)*(1-pred).log()).mean()\n",
    "\n",
    "pred = sigmoid(x)\n",
    "loss = binary_cross_entropy(pred, y)\n",
    "loss\n"
   ]
  },
  {
   "cell_type": "code",
   "execution_count": null,
   "id": "5db4c10d",
   "metadata": {},
   "outputs": [],
   "source": [
    "pred = torch.sigmoid(x)\n",
    "loss = F.binary_cross_entropy(pred, y,reduction='none')\n",
    "loss\n"
   ]
  },
  {
   "cell_type": "code",
   "execution_count": null,
   "id": "5dadf4bf",
   "metadata": {},
   "outputs": [],
   "source": [
    "pred"
   ]
  },
  {
   "cell_type": "code",
   "execution_count": null,
   "id": "b3d555f0",
   "metadata": {},
   "outputs": [],
   "source": [
    "F.binary_cross_entropy_with_logits(x, y)"
   ]
  },
  {
   "cell_type": "markdown",
   "id": "29b9c0d3",
   "metadata": {},
   "source": [
    "# Graph sampler"
   ]
  },
  {
   "cell_type": "code",
   "execution_count": 74,
   "id": "50d25582",
   "metadata": {},
   "outputs": [],
   "source": [
    "import networkx as nx"
   ]
  },
  {
   "cell_type": "markdown",
   "id": "4a3c87ec",
   "metadata": {},
   "source": [
    "#### Barabasi Albert graphs:"
   ]
  },
  {
   "cell_type": "code",
   "execution_count": 125,
   "id": "b62adf6d",
   "metadata": {},
   "outputs": [
    {
     "name": "stdout",
     "output_type": "stream",
     "text": [
      "positive rate: 0.3669602016367427\n"
     ]
    }
   ],
   "source": [
    "nmin=40\n",
    "nmax=50\n",
    "\n",
    "N=5000\n",
    "\n",
    "\n",
    "\n",
    "b_a_data=[]\n",
    "totaln=0\n",
    "totalpos=0\n",
    "\n",
    "for s in range(N):\n",
    "    n=np.random.randint(nmin,nmax+1)\n",
    "    totaln+=n\n",
    "    \n",
    "    graph = nx.barabasi_albert_graph(n, 3)\n",
    "\n",
    "    x=torch.zeros((n,5))\n",
    "    blueprob=0.2\n",
    "\n",
    "    # assign blue color:\n",
    "    for i in range(n):\n",
    "        if np.random.random()<blueprob:\n",
    "            x[i,0]=1\n",
    "\n",
    "    # assign other colors (uniform):\n",
    "    for j in np.where(x[:,0]!=1)[0]:\n",
    "        k=np.random.randint(1,high=5)\n",
    "        x[j,k]=1\n",
    "\n",
    "    numblues = torch.sum(x[:,0])  \n",
    "    blueneighbs = torch.zeros(n)\n",
    "\n",
    "    for e in graph.edges:\n",
    "        if x[e[1],0]==1:\n",
    "            blueneighbs[e[0]]+=1\n",
    "        if x[e[0],0]==1:\n",
    "            blueneighbs[e[1]]+=1\n",
    "\n",
    "    node_labels=torch.zeros(n)\n",
    "    numpos=0\n",
    "\n",
    "    for i in range(n):\n",
    "        l = numblues-blueneighbs[i]\n",
    "        if l>=8 and l<=10:\n",
    "            node_labels[i]=1\n",
    "            numpos+=1\n",
    "    \n",
    "    totalpos+=numpos\n",
    "\n",
    "    ne = len(graph.edges)\n",
    "    edge_index=torch.zeros((2,2*ne),dtype=torch.long)\n",
    "\n",
    "    for i,e in enumerate(graph.edges):\n",
    "        edge_index[:,i]=torch.tensor(e)\n",
    "        edge_index[:,ne+i] = torch.tensor(tuple(reversed(e)))\n",
    "\n",
    "\n",
    "    b_a_data.append(Data(x=x,edge_index=edge_index,node_labels=node_labels))\n",
    "  \n",
    "print(\"positive rate: {}\".format(totalpos/totaln))"
   ]
  },
  {
   "cell_type": "code",
   "execution_count": 126,
   "id": "5daa664c",
   "metadata": {},
   "outputs": [],
   "source": [
    "basedir = 'GraphNN-develop/'\n",
    "\n",
    "savedir = basedir + \"GNNdata/p1/\"\n",
    "\n",
    "outfilebase=\"barabasi_albert_\"+str(nmin)+\"_\"+str(nmax)+\"_n\" + str(N)\n",
    "outfilerdef=outfilebase+\".rdef\"\n",
    "outfilep=outfilebase+\".p\"\n",
    "\n"
   ]
  },
  {
   "cell_type": "code",
   "execution_count": 127,
   "id": "601872cc",
   "metadata": {},
   "outputs": [],
   "source": [
    "pickle.dump(b_a_data,open(savedir+outfilep,\"wb\"))"
   ]
  },
  {
   "cell_type": "code",
   "execution_count": 128,
   "id": "a6a3bd1b",
   "metadata": {},
   "outputs": [
    {
     "name": "stdout",
     "output_type": "stream",
     "text": [
      "Ensure that alpha1 is the class specified in preamble.txt!\n"
     ]
    }
   ],
   "source": [
    "#datatordef(b_a_data,savedir,outfilerdef,1.0,\"alpha1\",True)"
   ]
  },
  {
   "cell_type": "markdown",
   "id": "60098f16",
   "metadata": {},
   "source": [
    "#### Blue clique graphs:"
   ]
  },
  {
   "cell_type": "code",
   "execution_count": 83,
   "id": "d478006d",
   "metadata": {},
   "outputs": [
    {
     "name": "stdout",
     "output_type": "stream",
     "text": [
      "positive rate: 0.252\n"
     ]
    }
   ],
   "source": [
    "# Create graphs consisting of a clique of size B and n-B nodes without any edges\n",
    "# all nodes in the clique are colored blue, and all other nodes not blue\n",
    "\n",
    "n=25\n",
    "Bmin=6 \n",
    "Bmax=15\n",
    "\n",
    "N=10\n",
    "\n",
    "\n",
    "\n",
    "bclique_data=[]\n",
    "\n",
    "totaln=0\n",
    "totalpos=0\n",
    "\n",
    "for s in range(N):\n",
    "    B=np.random.randint(Bmin,Bmax+1)\n",
    "    \n",
    "    graph = nx.complete_graph(B)\n",
    "    for i in range(n-B):\n",
    "        graph.add_node(B+i)\n",
    "  \n",
    "    x=torch.zeros((n,5))\n",
    "    \n",
    "\n",
    "    # assign blue color:\n",
    "    for i in range(B):\n",
    "            x[i,0]=1\n",
    "\n",
    "    # assign other colors (uniform):\n",
    "    for i in range(n-B):\n",
    "        k=np.random.randint(1,high=5)\n",
    "        x[B+i,k]=1\n",
    "\n",
    "    numblues = torch.sum(x[:,0])  \n",
    "    blueneighbs = torch.zeros(n)\n",
    "\n",
    "    for e in graph.edges:\n",
    "        if x[e[1],0]==1:\n",
    "            blueneighbs[e[0]]+=1\n",
    "        if x[e[0],0]==1:\n",
    "            blueneighbs[e[1]]+=1\n",
    "\n",
    "    node_labels=torch.zeros(n)\n",
    "    numpos=0\n",
    "\n",
    "    for i in range(n):\n",
    "        l = numblues-blueneighbs[i]\n",
    "        if l>=8 and l<=10:\n",
    "            node_labels[i]=1\n",
    "            numpos+=1\n",
    "    \n",
    "    totalpos+=numpos\n",
    "\n",
    "    ne = len(graph.edges)\n",
    "    edge_index=torch.zeros((2,2*ne),dtype=torch.long)\n",
    "\n",
    "    for i,e in enumerate(graph.edges):\n",
    "        edge_index[:,i]=torch.tensor(e)\n",
    "        edge_index[:,ne+i] = torch.tensor(tuple(reversed(e)))\n",
    "\n",
    "    graph_label=torch.tensor([1])\n",
    "    bclique_data.append(Data(x=x,edge_index=edge_index,node_labels=node_labels,graph_label=graph_label))\n",
    "  \n",
    "print(\"positive rate: {}\".format(totalpos/(n*N)))"
   ]
  },
  {
   "cell_type": "code",
   "execution_count": 84,
   "id": "8e226d84",
   "metadata": {},
   "outputs": [],
   "source": [
    "basedir = 'GraphNN-develop'\n",
    "\n",
    "savedir = basedir + \"GNNdata/p1/\"\n",
    "\n",
    "outfilebase=\"blue_clique_\"+str(Bmin)+\"_\"+str(Bmax)+\"_n\" + str(N)\n",
    "outfilerdef=outfilebase+\".rdef\"\n",
    "outfilep=outfilebase+\".p\"\n",
    "\n"
   ]
  },
  {
   "cell_type": "code",
   "execution_count": 86,
   "id": "e5050dc2",
   "metadata": {},
   "outputs": [
    {
     "name": "stdout",
     "output_type": "stream",
     "text": [
      "Ensure that alpha1 is the class specified in preamble.txt!\n"
     ]
    },
    {
     "ename": "NameError",
     "evalue": "name 'dirpath' is not defined",
     "output_type": "error",
     "traceback": [
      "\u001b[0;31m---------------------------------------------------------------------------\u001b[0m",
      "\u001b[0;31mNameError\u001b[0m                                 Traceback (most recent call last)",
      "Input \u001b[0;32mIn [86]\u001b[0m, in \u001b[0;36m<cell line: 2>\u001b[0;34m()\u001b[0m\n\u001b[1;32m      1\u001b[0m pickle\u001b[38;5;241m.\u001b[39mdump(bclique_data,\u001b[38;5;28mopen\u001b[39m(savedir\u001b[38;5;241m+\u001b[39moutfilep,\u001b[38;5;124m\"\u001b[39m\u001b[38;5;124mwb\u001b[39m\u001b[38;5;124m\"\u001b[39m))\n\u001b[0;32m----> 2\u001b[0m \u001b[43mdatatordef\u001b[49m\u001b[43m(\u001b[49m\u001b[43mbclique_data\u001b[49m\u001b[43m,\u001b[49m\u001b[43moutfilerdef\u001b[49m\u001b[43m,\u001b[49m\u001b[38;5;241;43m1.0\u001b[39;49m\u001b[43m,\u001b[49m\u001b[38;5;124;43m\"\u001b[39;49m\u001b[38;5;124;43malpha1\u001b[39;49m\u001b[38;5;124;43m\"\u001b[39;49m\u001b[43m,\u001b[49m\u001b[38;5;28;43;01mTrue\u001b[39;49;00m\u001b[43m)\u001b[49m\n",
      "File \u001b[0;32m~/B/Python/MyUtils/primulautils.py:22\u001b[0m, in \u001b[0;36mdatatordef\u001b[0;34m(data, outfile, includeprob, classlabel, generative)\u001b[0m\n\u001b[1;32m     20\u001b[0m \u001b[38;5;28mprint\u001b[39m(\u001b[38;5;124m\"\u001b[39m\u001b[38;5;124mEnsure that \u001b[39m\u001b[38;5;132;01m{}\u001b[39;00m\u001b[38;5;124m is the class specified in preamble.txt!\u001b[39m\u001b[38;5;124m\"\u001b[39m\u001b[38;5;241m.\u001b[39mformat(classlabel))\n\u001b[1;32m     21\u001b[0m \u001b[38;5;28;01mif\u001b[39;00m generative:\n\u001b[0;32m---> 22\u001b[0m     pream \u001b[38;5;241m=\u001b[39m \u001b[38;5;28mopen\u001b[39m(\u001b[43mdirpath\u001b[49m\u001b[38;5;241m+\u001b[39m\u001b[38;5;124m\"\u001b[39m\u001b[38;5;124mpreamble-generative.txt\u001b[39m\u001b[38;5;124m\"\u001b[39m,\u001b[38;5;124m'\u001b[39m\u001b[38;5;124mr\u001b[39m\u001b[38;5;124m'\u001b[39m)\u001b[38;5;241m.\u001b[39mread()\n\u001b[1;32m     23\u001b[0m \u001b[38;5;28;01melse\u001b[39;00m:\n\u001b[1;32m     24\u001b[0m     pream \u001b[38;5;241m=\u001b[39m \u001b[38;5;28mopen\u001b[39m(dirpath\u001b[38;5;241m+\u001b[39m\u001b[38;5;124m\"\u001b[39m\u001b[38;5;124mpreamble.txt\u001b[39m\u001b[38;5;124m\"\u001b[39m,\u001b[38;5;124m'\u001b[39m\u001b[38;5;124mr\u001b[39m\u001b[38;5;124m'\u001b[39m)\u001b[38;5;241m.\u001b[39mread()\n",
      "\u001b[0;31mNameError\u001b[0m: name 'dirpath' is not defined"
     ]
    }
   ],
   "source": [
    "pickle.dump(bclique_data,open(savedir+outfilep,\"wb\"))\n",
    "#datatordef(bclique_data,outfilerdef,1.0,\"alpha1\",True)"
   ]
  },
  {
   "cell_type": "code",
   "execution_count": 80,
   "id": "d7db0926",
   "metadata": {},
   "outputs": [
    {
     "data": {
      "image/png": "[encoded data removed]",
      "text/plain": [
       "<Figure size 432x288 with 1 Axes>"
      ]
     },
     "metadata": {},
     "output_type": "display_data"
    }
   ],
   "source": [
    "nx.draw_random(graph)"
   ]
  },
  {
   "cell_type": "code",
   "execution_count": 103,
   "id": "26e49619",
   "metadata": {},
   "outputs": [
    {
     "data": {
      "text/plain": [
       "tensor([0., 0., 0., 0., 0., 0., 0., 0., 0., 1., 1., 1., 1., 1., 1., 1., 1., 1.,\n",
       "        1., 1., 1., 1., 1., 1., 1.])"
      ]
     },
     "execution_count": 103,
     "metadata": {},
     "output_type": "execute_result"
    }
   ],
   "source": [
    "bclique_data[4].node_labels"
   ]
  },
  {
   "cell_type": "code",
   "execution_count": null,
   "id": "8b1f6b21",
   "metadata": {},
   "outputs": [],
   "source": []
  }
 ],
 "metadata": {
  "kernelspec": {
   "display_name": "Python 3.8.5 ('pytorch')",
   "language": "python",
   "name": "python3"
  },
  "language_info": {
   "codemirror_mode": {
    "name": "ipython",
    "version": 3
   },
   "file_extension": ".py",
   "mimetype": "text/x-python",
   "name": "python",
   "nbconvert_exporter": "python",
   "pygments_lexer": "ipython3",
   "version": "3.8.5"
  },
  "vscode": {
   "interpreter": {
    "hash": "3c1ac0131ad0323fbd1cc33df421486ad04889c07ccedb7c42f97847339f3e11"
   }
  }
 },
 "nbformat": 4,
 "nbformat_minor": 5
}
